{
 "cells": [
  {
   "cell_type": "markdown",
   "id": "03f374ce-b8f9-4a85-8e17-94e6e7942fc7",
   "metadata": {},
   "source": [
    "# Supervised Learning\n",
    "Kali ini saya menggunakan supervised learning model klasifikasi digunakan untuk memprediksi kategori atau kelas berdasarkan variabel-variabel yang ada. Dalam hal ini, kita ingin mengidentifikasi faktor-faktor utama yang mempengaruhi tingkat kebahagiaan suatu negara."
   ]
  },
  {
   "cell_type": "code",
   "execution_count": 66,
   "id": "0e73378d-38b6-48e0-8f42-12d3ecdee2c4",
   "metadata": {
    "tags": []
   },
   "outputs": [],
   "source": [
    "import pandas as pd\n",
    "import numpy as np\n",
    "import matplotlib.pyplot as plt"
   ]
  },
  {
   "cell_type": "code",
   "execution_count": 67,
   "id": "2e1375f3-e454-4a9b-8431-1d0af2aa199c",
   "metadata": {
    "tags": []
   },
   "outputs": [
    {
     "data": {
      "text/html": [
       "<div>\n",
       "<style scoped>\n",
       "    .dataframe tbody tr th:only-of-type {\n",
       "        vertical-align: middle;\n",
       "    }\n",
       "\n",
       "    .dataframe tbody tr th {\n",
       "        vertical-align: top;\n",
       "    }\n",
       "\n",
       "    .dataframe thead th {\n",
       "        text-align: right;\n",
       "    }\n",
       "</style>\n",
       "<table border=\"1\" class=\"dataframe\">\n",
       "  <thead>\n",
       "    <tr style=\"text-align: right;\">\n",
       "      <th></th>\n",
       "      <th>Country name</th>\n",
       "      <th>Regional indicator</th>\n",
       "      <th>Ladder score</th>\n",
       "      <th>Standard error of ladder score</th>\n",
       "      <th>upperwhisker</th>\n",
       "      <th>lowerwhisker</th>\n",
       "      <th>Logged GDP per capita</th>\n",
       "      <th>Social support</th>\n",
       "      <th>Healthy life expectancy</th>\n",
       "      <th>Freedom to make life choices</th>\n",
       "      <th>Generosity</th>\n",
       "      <th>Perceptions of corruption</th>\n",
       "      <th>Ladder score in Dystopia</th>\n",
       "      <th>Explained by: Log GDP per capita</th>\n",
       "      <th>Explained by: Social support</th>\n",
       "      <th>Explained by: Healthy life expectancy</th>\n",
       "      <th>Explained by: Freedom to make life choices</th>\n",
       "      <th>Explained by: Generosity</th>\n",
       "      <th>Explained by: Perceptions of corruption</th>\n",
       "      <th>Dystopia + residual</th>\n",
       "    </tr>\n",
       "  </thead>\n",
       "  <tbody>\n",
       "    <tr>\n",
       "      <th>0</th>\n",
       "      <td>Finland</td>\n",
       "      <td>Western Europe</td>\n",
       "      <td>7.842</td>\n",
       "      <td>0.032</td>\n",
       "      <td>7.904</td>\n",
       "      <td>7.780</td>\n",
       "      <td>10.775</td>\n",
       "      <td>0.954</td>\n",
       "      <td>72.0</td>\n",
       "      <td>0.949</td>\n",
       "      <td>-0.098</td>\n",
       "      <td>0.186</td>\n",
       "      <td>2.43</td>\n",
       "      <td>1.446</td>\n",
       "      <td>1.106</td>\n",
       "      <td>0.741</td>\n",
       "      <td>0.691</td>\n",
       "      <td>0.124</td>\n",
       "      <td>0.481</td>\n",
       "      <td>3.253</td>\n",
       "    </tr>\n",
       "    <tr>\n",
       "      <th>1</th>\n",
       "      <td>Denmark</td>\n",
       "      <td>Western Europe</td>\n",
       "      <td>7.620</td>\n",
       "      <td>0.035</td>\n",
       "      <td>7.687</td>\n",
       "      <td>7.552</td>\n",
       "      <td>10.933</td>\n",
       "      <td>0.954</td>\n",
       "      <td>72.7</td>\n",
       "      <td>0.946</td>\n",
       "      <td>0.030</td>\n",
       "      <td>0.179</td>\n",
       "      <td>2.43</td>\n",
       "      <td>1.502</td>\n",
       "      <td>1.108</td>\n",
       "      <td>0.763</td>\n",
       "      <td>0.686</td>\n",
       "      <td>0.208</td>\n",
       "      <td>0.485</td>\n",
       "      <td>2.868</td>\n",
       "    </tr>\n",
       "    <tr>\n",
       "      <th>2</th>\n",
       "      <td>Switzerland</td>\n",
       "      <td>Western Europe</td>\n",
       "      <td>7.571</td>\n",
       "      <td>0.036</td>\n",
       "      <td>7.643</td>\n",
       "      <td>7.500</td>\n",
       "      <td>11.117</td>\n",
       "      <td>0.942</td>\n",
       "      <td>74.4</td>\n",
       "      <td>0.919</td>\n",
       "      <td>0.025</td>\n",
       "      <td>0.292</td>\n",
       "      <td>2.43</td>\n",
       "      <td>1.566</td>\n",
       "      <td>1.079</td>\n",
       "      <td>0.816</td>\n",
       "      <td>0.653</td>\n",
       "      <td>0.204</td>\n",
       "      <td>0.413</td>\n",
       "      <td>2.839</td>\n",
       "    </tr>\n",
       "    <tr>\n",
       "      <th>3</th>\n",
       "      <td>Iceland</td>\n",
       "      <td>Western Europe</td>\n",
       "      <td>7.554</td>\n",
       "      <td>0.059</td>\n",
       "      <td>7.670</td>\n",
       "      <td>7.438</td>\n",
       "      <td>10.878</td>\n",
       "      <td>0.983</td>\n",
       "      <td>73.0</td>\n",
       "      <td>0.955</td>\n",
       "      <td>0.160</td>\n",
       "      <td>0.673</td>\n",
       "      <td>2.43</td>\n",
       "      <td>1.482</td>\n",
       "      <td>1.172</td>\n",
       "      <td>0.772</td>\n",
       "      <td>0.698</td>\n",
       "      <td>0.293</td>\n",
       "      <td>0.170</td>\n",
       "      <td>2.967</td>\n",
       "    </tr>\n",
       "    <tr>\n",
       "      <th>4</th>\n",
       "      <td>Netherlands</td>\n",
       "      <td>Western Europe</td>\n",
       "      <td>7.464</td>\n",
       "      <td>0.027</td>\n",
       "      <td>7.518</td>\n",
       "      <td>7.410</td>\n",
       "      <td>10.932</td>\n",
       "      <td>0.942</td>\n",
       "      <td>72.4</td>\n",
       "      <td>0.913</td>\n",
       "      <td>0.175</td>\n",
       "      <td>0.338</td>\n",
       "      <td>2.43</td>\n",
       "      <td>1.501</td>\n",
       "      <td>1.079</td>\n",
       "      <td>0.753</td>\n",
       "      <td>0.647</td>\n",
       "      <td>0.302</td>\n",
       "      <td>0.384</td>\n",
       "      <td>2.798</td>\n",
       "    </tr>\n",
       "  </tbody>\n",
       "</table>\n",
       "</div>"
      ],
      "text/plain": [
       "  Country name Regional indicator  Ladder score  \\\n",
       "0      Finland     Western Europe         7.842   \n",
       "1      Denmark     Western Europe         7.620   \n",
       "2  Switzerland     Western Europe         7.571   \n",
       "3      Iceland     Western Europe         7.554   \n",
       "4  Netherlands     Western Europe         7.464   \n",
       "\n",
       "   Standard error of ladder score  upperwhisker  lowerwhisker  \\\n",
       "0                           0.032         7.904         7.780   \n",
       "1                           0.035         7.687         7.552   \n",
       "2                           0.036         7.643         7.500   \n",
       "3                           0.059         7.670         7.438   \n",
       "4                           0.027         7.518         7.410   \n",
       "\n",
       "   Logged GDP per capita  Social support  Healthy life expectancy  \\\n",
       "0                 10.775           0.954                     72.0   \n",
       "1                 10.933           0.954                     72.7   \n",
       "2                 11.117           0.942                     74.4   \n",
       "3                 10.878           0.983                     73.0   \n",
       "4                 10.932           0.942                     72.4   \n",
       "\n",
       "   Freedom to make life choices  Generosity  Perceptions of corruption  \\\n",
       "0                         0.949      -0.098                      0.186   \n",
       "1                         0.946       0.030                      0.179   \n",
       "2                         0.919       0.025                      0.292   \n",
       "3                         0.955       0.160                      0.673   \n",
       "4                         0.913       0.175                      0.338   \n",
       "\n",
       "   Ladder score in Dystopia  Explained by: Log GDP per capita  \\\n",
       "0                      2.43                             1.446   \n",
       "1                      2.43                             1.502   \n",
       "2                      2.43                             1.566   \n",
       "3                      2.43                             1.482   \n",
       "4                      2.43                             1.501   \n",
       "\n",
       "   Explained by: Social support  Explained by: Healthy life expectancy  \\\n",
       "0                         1.106                                  0.741   \n",
       "1                         1.108                                  0.763   \n",
       "2                         1.079                                  0.816   \n",
       "3                         1.172                                  0.772   \n",
       "4                         1.079                                  0.753   \n",
       "\n",
       "   Explained by: Freedom to make life choices  Explained by: Generosity  \\\n",
       "0                                       0.691                     0.124   \n",
       "1                                       0.686                     0.208   \n",
       "2                                       0.653                     0.204   \n",
       "3                                       0.698                     0.293   \n",
       "4                                       0.647                     0.302   \n",
       "\n",
       "   Explained by: Perceptions of corruption  Dystopia + residual  \n",
       "0                                    0.481                3.253  \n",
       "1                                    0.485                2.868  \n",
       "2                                    0.413                2.839  \n",
       "3                                    0.170                2.967  \n",
       "4                                    0.384                2.798  "
      ]
     },
     "execution_count": 67,
     "metadata": {},
     "output_type": "execute_result"
    }
   ],
   "source": [
    "# Masukkan Dataset\n",
    "data = pd.read_csv('world happines report 2021.csv')\n",
    "data.head()"
   ]
  },
  {
   "cell_type": "code",
   "execution_count": 68,
   "id": "85643f94-20c4-4757-addc-f3146ebf7ed9",
   "metadata": {
    "tags": []
   },
   "outputs": [],
   "source": [
    "# Memilih variabel independen (x) dan dependen (y)\n",
    "X = data[['Logged GDP per capita', 'Social support', 'Healthy life expectancy', \n",
    "           'Freedom to make life choices', 'Generosity']]\n",
    "y = data['Ladder score']\n",
    "\n",
    "# Binning Ladder Score untuk klasifikasi\n",
    "bins = [0, 4, 6, 8, 10]\n",
    "labels = [0, 1, 2, 3]  # Menggunakan angka untuk klasifikasi\n",
    "y_binned = pd.cut(y, bins=bins, labels=labels)\n",
    "\n",
    "# Split data menjadi training dan testing set\n",
    "X_train, X_test, y_train, y_test = train_test_split(X, y_binned, test_size=0.2, random_state=42)"
   ]
  },
  {
   "cell_type": "markdown",
   "id": "deed30ed-dbe3-4996-9bf1-baa1091bc32f",
   "metadata": {},
   "source": [
    "### Naive Bayes"
   ]
  },
  {
   "cell_type": "code",
   "execution_count": 88,
   "id": "624efdbc-5b6d-4ebd-b19c-0d77c56d9a2b",
   "metadata": {
    "tags": []
   },
   "outputs": [],
   "source": [
    "from sklearn.model_selection import train_test_split\n",
    "from sklearn.naive_bayes import GaussianNB\n",
    "from sklearn.metrics import accuracy_score, classification_report, confusion_matrix"
   ]
  },
  {
   "cell_type": "code",
   "execution_count": 89,
   "id": "d4759114-cf4b-487c-aa68-aff3a0446f31",
   "metadata": {
    "tags": []
   },
   "outputs": [
    {
     "name": "stdout",
     "output_type": "stream",
     "text": [
      "Akurasi Model Naive Bayes Gaussian: 0.67\n"
     ]
    }
   ],
   "source": [
    "# Membuat model Naive Bayes Gaussian\n",
    "model_nb_gaussian = GaussianNB()\n",
    "model_nb_gaussian.fit(X_train.values, np.ravel(y_train))\n",
    "\n",
    "# Melakukan prediksi\n",
    "predictions_nb_gaussian = model_nb_gaussian.predict(X_test.values)\n",
    "predicted_probabilities_nb_gaussian = model_nb_gaussian.predict_proba(X_test.values)\n",
    "\n",
    "# Menghitung akurasi model\n",
    "accuracy_nb_gaussian = accuracy_score(np.ravel(y_test),predictions_nb_gaussian)\n",
    "print(f'Akurasi Model Naive Bayes Gaussian: {accuracy_nb_gaussian:.2f}')"
   ]
  },
  {
   "cell_type": "markdown",
   "id": "6a433099-6483-46e6-bd6a-437a14fe758f",
   "metadata": {},
   "source": [
    "Ini menunjukkan bahwa model Naive Bayes berhasil mengklasifikasikan tingkat kebahagiaan dengan akurasi 67%. Meskipun tidak sangat tinggi, ini menunjukkan bahwa model dapat memberikan prediksi yang cukup baik."
   ]
  },
  {
   "cell_type": "code",
   "execution_count": 104,
   "id": "dc9f6349-7213-4764-b285-f342b45f9ece",
   "metadata": {
    "tags": []
   },
   "outputs": [
    {
     "name": "stdout",
     "output_type": "stream",
     "text": [
      "\n",
      "Confusion Matrix:\n",
      "[[ 0  2  0]\n",
      " [ 3 11  4]\n",
      " [ 0  1  9]]\n"
     ]
    },
    {
     "data": {
      "image/png": "[encoded data removed]",
      "text/plain": [
       "<Figure size 800x500 with 2 Axes>"
      ]
     },
     "metadata": {},
     "output_type": "display_data"
    }
   ],
   "source": [
    "# Confusioan Matrix\n",
    "conf_matrix_nb_gaussian = confusion_matrix(np.ravel(y_test),predictions_nb_gaussian)\n",
    "print(\"\\nConfusion Matrix:\")\n",
    "print(conf_matrix_nb_gaussian)\n",
    "\n",
    "plt.figure(figsize=(8, 5))\n",
    "plt.imshow(conf_matrix_nb_gaussian, interpolation='nearest', cmap=plt.cm.Blues)\n",
    "plt.title('Confusion Matrix')\n",
    "plt.colorbar()\n",
    "tick_marks = np.arange(len(labels))\n",
    "plt.xticks(tick_marks, labels)\n",
    "plt.yticks(tick_marks, labels)\n",
    "\n",
    "thresh = conf_matrix_nb_gaussian.max() / 2.\n",
    "for i, j in np.ndindex(conf_matrix_nb_gaussian.shape):\n",
    "    plt.text(j,i , format(conf_matrix_nb_gaussian[i,j], 'd'),\n",
    "             horizontalalignment=\"center\",\n",
    "             color =\"white\" if conf_matrix_nb_gaussian[i,j]> thresh else \"black\")\n",
    "\n",
    "plt.ylabel ('Label Aktual ')\n",
    "plt.xlabel (' Label Prediksi ')\n",
    "plt.tight_layout ()\n",
    "plt.show ()"
   ]
  },
  {
   "cell_type": "code",
   "execution_count": 96,
   "id": "d8ae80a1-fc92-4502-9e01-7ab9238e4c5d",
   "metadata": {
    "tags": []
   },
   "outputs": [
    {
     "name": "stdout",
     "output_type": "stream",
     "text": [
      "\n",
      "Tabel Pengaruh Variabel X - Naive Bayes:\n",
      "         Logged GDP per capita  Social support  Healthy life expectancy  \\\n",
      "Class 0               7.823100        0.605100                56.669400   \n",
      "Class 1               8.975537        0.782821                62.727269   \n",
      "Class 2              10.461571        0.906905                70.275476   \n",
      "\n",
      "         Freedom to make life choices  Generosity  \n",
      "Class 0                      0.722200    0.045800  \n",
      "Class 1                      0.758343   -0.012627  \n",
      "Class 2                      0.868262   -0.012714  \n"
     ]
    }
   ],
   "source": [
    "# Menghitung probabilitas fitur untuk setiap kelas\n",
    "probabilities = model_nb_gaussian.theta_  # Probabilitas untuk Gaussian Naive Bayes\n",
    "features = X.columns\n",
    "\n",
    "# Membuat DataFrame untuk menampilkan pengaruh variabel\n",
    "influence_df_nb = pd.DataFrame(probabilities, columns=features)\n",
    "influence_df_nb.index = [f'Class {i}' for i in range(len(probabilities))]\n",
    "print(\"\\nTabel Pengaruh Variabel X - Naive Bayes:\")\n",
    "print(influence_df_nb)"
   ]
  },
  {
   "cell_type": "markdown",
   "id": "b57bb81c-8150-4431-80d2-41cd038895ed",
   "metadata": {},
   "source": [
    "Interpretasi:\n",
    "1. Logged GDP per capita:\n",
    "Kelas dengan tingkat kebahagiaan rendah (Class 0) memiliki nilai GDP per kapita terendah (7.82), sedangkan kelas tinggi (Class 2) memiliki nilai tertinggi (10.46). Ini menunjukkan bahwa pendapatan ekonomi sangat berpengaruh terhadap tingkat kebahagiaan.\n",
    "2. Social support:\n",
    "Nilai dukungan sosial juga meningkat seiring dengan peningkatan kelas kebahagiaan, dari sekitar 0.61 untuk Class 0 hingga 0.91 untuk Class 2. Ini menunjukkan bahwa dukungan sosial yang lebih besar berkontribusi pada tingkat kebahagiaan yang lebih tinggi.\n",
    "3. Healthy life expectancy:\n",
    "Harapan hidup juga meningkat dari 56.67 di Class 0 menjadi 70.28 di Class 2. Ini menegaskan bahwa kesehatan dan harapan hidup yang lebih baik berkorelasi positif dengan kebahagiaan.\n",
    "4. Freedom to make life choices:\n",
    "Kebebasan untuk membuat pilihan hidup juga meningkat dari Class rendah ke tinggi, menunjukkan bahwa individu merasa lebih bahagia ketika mereka memiliki kontrol atas keputusan hidup mereka.\n",
    "5. Generosity:\n",
    "Nilai generosity tampaknya tidak berpengaruh signifikan, bahkan menunjukkan nilai negatif pada kelas menengah dan tinggi. Ini mungkin menunjukkan bahwa faktor ini tidak sekuat faktor lainnya dalam mempengaruhi kebahagiaan.\n",
    "\n",
    "Jadi faktor yang paling memengaruhi tingkat kebahagiaan suatu negara pada metode naive bayes urutannya yaitu pendapatan ekonomi (GDP), dukungan sosial, harapan hidup, dan kebebasan membuat pilihan. Namun variabel generosity dikatakan tidak berpengaruh pada metode ini, yang artinya sikap dermawan tidak berpengaruh pada kebahagiaan suatu negara."
   ]
  },
  {
   "cell_type": "markdown",
   "id": "46df6fed-7d3a-414a-a615-93b20844223c",
   "metadata": {},
   "source": [
    "### Decision Tree Classifer"
   ]
  },
  {
   "cell_type": "code",
   "execution_count": 73,
   "id": "6e8358ee-0999-4284-acff-b993e54013e1",
   "metadata": {
    "tags": []
   },
   "outputs": [],
   "source": [
    "from sklearn.model_selection import train_test_split\n",
    "from sklearn.tree import DecisionTreeClassifier\n",
    "from sklearn.metrics import accuracy_score, classification_report, confusion_matrix"
   ]
  },
  {
   "cell_type": "code",
   "execution_count": 74,
   "id": "bc5834bb-17f6-4349-bbcb-80aa2d37d419",
   "metadata": {
    "tags": []
   },
   "outputs": [
    {
     "name": "stdout",
     "output_type": "stream",
     "text": [
      "Akurasi Model Decision Tree Classifier: 0.80\n"
     ]
    }
   ],
   "source": [
    "# Membuat model Decision Tree Classifier\n",
    "model_dt = DecisionTreeClassifier(random_state=42)\n",
    "model_dt.fit(X_train, y_train)\n",
    "\n",
    "# Melakukan prediksi\n",
    "predictions_dt = model_dt.predict(X_test)\n",
    "\n",
    "# Menghitung akurasi model\n",
    "accuracy_dt = accuracy_score(y_test, predictions_dt)\n",
    "print(f'Akurasi Model Decision Tree Classifier: {accuracy_dt:.2f}')"
   ]
  },
  {
   "cell_type": "markdown",
   "id": "6daf0134-e649-4982-9e84-7f2bbd93d4fc",
   "metadata": {},
   "source": [
    "Model ini berhasil mengklasifikasikan tingkat kebahagiaan dengan akurasi 80%. Ini menunjukkan bahwa model cukup efektif dalam memprediksi kelas kebahagiaan berdasarkan fitur yang diberikan."
   ]
  },
  {
   "cell_type": "code",
   "execution_count": 76,
   "id": "bdfab6a4-6041-4e91-b216-27db0ec6f849",
   "metadata": {
    "tags": []
   },
   "outputs": [
    {
     "name": "stdout",
     "output_type": "stream",
     "text": [
      "\n",
      "Confusion Matrix:\n",
      "[[ 2  0  0]\n",
      " [ 1 13  4]\n",
      " [ 0  1  9]]\n"
     ]
    },
    {
     "data": {
      "image/png": "[encoded data removed]",
      "text/plain": [
       "<Figure size 800x500 with 2 Axes>"
      ]
     },
     "metadata": {},
     "output_type": "display_data"
    }
   ],
   "source": [
    "# Confusion Matrix\n",
    "conf_matrix = confusion_matrix(y_test, predictions_dt)\n",
    "print(\"\\nConfusion Matrix:\")\n",
    "print(conf_matrix)\n",
    "\n",
    "# Visualisasi Confusion Matrix\n",
    "plt.figure(figsize=(8, 5))\n",
    "plt.imshow(conf_matrix, interpolation='nearest', cmap=plt.cm.Blues)\n",
    "plt.title('Confusion Matrix')\n",
    "plt.colorbar()\n",
    "tick_marks = np.arange(len(labels))\n",
    "plt.xticks(tick_marks, labels)\n",
    "plt.yticks(tick_marks, labels)\n",
    "\n",
    "thresh = conf_matrix.max() / 2.\n",
    "for i, j in np.ndindex(conf_matrix.shape):\n",
    "    plt.text(j, i, format(conf_matrix[i, j], 'd'),\n",
    "             horizontalalignment=\"center\",\n",
    "             color=\"white\" if conf_matrix[i, j] > thresh else \"black\")\n",
    "\n",
    "plt.ylabel('Label Aktual')\n",
    "plt.xlabel('Label Prediksi')\n",
    "plt.tight_layout()\n",
    "plt.show()"
   ]
  },
  {
   "cell_type": "code",
   "execution_count": 108,
   "id": "8a363f42-5ab8-49e7-ba85-32f837af6c14",
   "metadata": {
    "tags": []
   },
   "outputs": [
    {
     "name": "stdout",
     "output_type": "stream",
     "text": [
      "\n",
      "Tabel Pengaruh Variabel X - Decision Tree:\n",
      "                     Variabel X  Pengaruh\n",
      "0         Logged GDP per capita  0.450197\n",
      "1                Social support  0.189643\n",
      "3  Freedom to make life choices  0.157796\n",
      "4                    Generosity  0.132118\n",
      "2       Healthy life expectancy  0.070246\n"
     ]
    }
   ],
   "source": [
    "# Tabel Pengaruh Variabel - Decision Tree\n",
    "importances_dt = model_dt.feature_importances_\n",
    "influence_df_dt = pd.DataFrame({\n",
    "    'Variabel X': X.columns,\n",
    "    'Pengaruh': importances_dt\n",
    "}).sort_values(by='Pengaruh', ascending=False)\n",
    "\n",
    "print(\"\\nTabel Pengaruh Variabel X - Decision Tree:\")\n",
    "print(influence_df_dt)"
   ]
  },
  {
   "cell_type": "markdown",
   "id": "4a89e55a-c2b5-440f-aed5-d5872c602037",
   "metadata": {
    "tags": []
   },
   "source": [
    "Interpretasi:\n",
    "1. Logged GDP per capita:\n",
    "Memiliki pengaruh tertinggi (0.450197) di antara semua fitur. Ini menunjukkan bahwa pendapatan per kapita yang lebih tinggi sangat berkontribusi terhadap tingkat kebahagiaan suatu negara.\n",
    "2. Social support:\n",
    "Dengan pengaruh sebesar (0.189643), dukungan sosial juga merupakan faktor penting dalam menentukan kebahagiaan. Hal ini mencerminkan bahwa masyarakat yang memiliki jaringan sosial yang kuat cenderung lebih bahagia.\n",
    "3. Freedom to make life choices:\n",
    "Pengaruh sebesar (0.157796) menunjukkan bahwa kebebasan untuk membuat pilihan hidup juga berkontribusi pada tingkat kebahagiaan, mencerminkan pentingnya otonomi individu dalam kehidupan sehari-hari.\n",
    "4. Generosity:\n",
    "Dengan pengaruh (0.132118), sikap dermawan berkontribusi pada kebahagiaan, meskipun tidak sekuat faktor lainnya.\n",
    "5. Healthy life expectancy:\n",
    "Meskipun memiliki pengaruh terendah di antara fitur-fitur lainnya (0.070246), harapan hidup tetap relevan dalam konteks kesejahteraan dan kebahagiaan individu.\n",
    "\n",
    "Jadi faktor yang paling memengaruhi tingkat kebahagiaan suatu negara pada metode decision tree classifer urutannya yaitu pendapatan ekonomi (GDP), dukungan sosial, kebebasan membuat pilihan, sikap dermawan, dan  harapan hidup. Pada metode ini variabel healthy life expectancy dikatakan memiliki pengaru paling rendah, yang artinya harapan hidup tidak terllau berpengaruh pada tingkat kebahagiaan suatu negara."
   ]
  },
  {
   "cell_type": "markdown",
   "id": "43ed948f-3cd1-4985-89f2-9df113200e0a",
   "metadata": {},
   "source": [
    "### Random Forest Classifier"
   ]
  },
  {
   "cell_type": "code",
   "execution_count": 78,
   "id": "06604dd2-cf2d-4d46-9a0e-7123a024ecbb",
   "metadata": {
    "tags": []
   },
   "outputs": [],
   "source": [
    "from sklearn.model_selection import train_test_split\n",
    "from sklearn.ensemble import RandomForestClassifier\n",
    "from sklearn.metrics import accuracy_score, classification_report, confusion_matrix"
   ]
  },
  {
   "cell_type": "code",
   "execution_count": 82,
   "id": "adce0c64-6e7d-4b37-8b77-74d5988cd864",
   "metadata": {
    "tags": []
   },
   "outputs": [
    {
     "name": "stdout",
     "output_type": "stream",
     "text": [
      "Akurasi Model Random Forest Classifier: 0.70\n"
     ]
    }
   ],
   "source": [
    "# Membuat model Random Forest Classifier\n",
    "model_rf = RandomForestClassifier(n_estimators=100, random_state=42)\n",
    "model_rf.fit(X_train, y_train)\n",
    "\n",
    "# Melakukan prediksi\n",
    "predictions_rf = model_rf.predict(X_test)\n",
    "\n",
    "# Menghitung akurasi model\n",
    "accuracy_rf = accuracy_score(y_test, predictions_rf)\n",
    "print(f'Akurasi Model Random Forest Classifier: {accuracy_rf:.2f}')"
   ]
  },
  {
   "cell_type": "markdown",
   "id": "bd22ad62-2686-4d11-b32b-8f2a7728ea36",
   "metadata": {},
   "source": [
    "Model ini berhasil mengklasifikasikan tingkat kebahagiaan dengan akurasi 70%. Meskipun tidak setinggi model Decision Tree (80%), akurasi ini masih menunjukkan bahwa model dapat memberikan prediksi yang cukup baik."
   ]
  },
  {
   "cell_type": "code",
   "execution_count": 80,
   "id": "b0276cdc-220e-4e07-9197-658a12bf1817",
   "metadata": {
    "tags": []
   },
   "outputs": [
    {
     "name": "stdout",
     "output_type": "stream",
     "text": [
      "\n",
      "Confusion Matrix:\n",
      "[[ 0  2  0]\n",
      " [ 0 14  4]\n",
      " [ 0  3  7]]\n"
     ]
    },
    {
     "data": {
      "image/png": "[encoded data removed]",
      "text/plain": [
       "<Figure size 800x500 with 2 Axes>"
      ]
     },
     "metadata": {},
     "output_type": "display_data"
    }
   ],
   "source": [
    "# Confusion Matrix\n",
    "conf_matrix = confusion_matrix(y_test, predictions_rf)\n",
    "print(\"\\nConfusion Matrix:\")\n",
    "print(conf_matrix)\n",
    "\n",
    "# Visualisasi Matriks Kebingungan\n",
    "plt.figure(figsize=(8, 5))\n",
    "plt.imshow(conf_matrix, interpolation='nearest', cmap=plt.cm.Blues)\n",
    "plt.title('Confusion Matrix')\n",
    "plt.colorbar()\n",
    "tick_marks = np.arange(len(labels))\n",
    "plt.xticks(tick_marks, labels)\n",
    "plt.yticks(tick_marks, labels)\n",
    "\n",
    "thresh = conf_matrix.max() / 2.\n",
    "for i, j in np.ndindex(conf_matrix.shape):\n",
    "    plt.text(j, i, format(conf_matrix[i, j], 'd'),\n",
    "             horizontalalignment=\"center\",\n",
    "             color=\"white\" if conf_matrix[i, j] > thresh else \"black\")\n",
    "\n",
    "plt.ylabel('Label Aktual')\n",
    "plt.xlabel('Label Prediksi')\n",
    "plt.tight_layout()\n",
    "plt.show()"
   ]
  },
  {
   "cell_type": "code",
   "execution_count": 107,
   "id": "799182ed-972c-4b04-802d-5c21f7cb59bd",
   "metadata": {
    "tags": []
   },
   "outputs": [
    {
     "name": "stdout",
     "output_type": "stream",
     "text": [
      "\n",
      "Tabel Pengaruh Variabel X - Random Forest:\n",
      "                     Variabel X  Pengaruh\n",
      "0         Logged GDP per capita  0.329349\n",
      "1                Social support  0.251869\n",
      "2       Healthy life expectancy  0.174758\n",
      "3  Freedom to make life choices  0.141722\n",
      "4                    Generosity  0.102302\n"
     ]
    }
   ],
   "source": [
    "# Tabel Pengaruh Variabel - Random Forest\n",
    "importances_rf = model_rf.feature_importances_\n",
    "influence_df_rf = pd.DataFrame({\n",
    "    'Variabel X': X.columns,\n",
    "    'Pengaruh': importances_rf\n",
    "}).sort_values(by='Pengaruh', ascending=False)\n",
    "\n",
    "print(\"\\nTabel Pengaruh Variabel X - Random Forest:\")\n",
    "print(influence_df_rf)"
   ]
  },
  {
   "cell_type": "markdown",
   "id": "ba00ccb2-437d-48e7-8da2-296e251b070c",
   "metadata": {},
   "source": [
    "Interpretasi:\n",
    "1. Logged GDP per capita:\n",
    "Memiliki pengaruh tertinggi (0.329349) di antara semua fitur. Ini menunjukkan bahwa pendapatan per kapita yang lebih tinggi sangat berkontribusi terhadap tingkat kebahagiaan suatu negara.\n",
    "2. Social support:\n",
    "Dengan pengaruh sebesar (0.251869), dukungan sosial merupakan faktor penting dalam menentukan kebahagiaan. Hal ini mencerminkan bahwa masyarakat yang memiliki jaringan sosial yang kuat cenderung lebih bahagia.\n",
    "3. Healthy life expectancy:\n",
    "Pengaruh sebesar (0.174758) menunjukkan bahwa harapan hidup yang lebih tinggi berkorelasi positif dengan tingkat kebahagiaan, mencerminkan pentingnya kesehatan dalam kesejahteraan individu.\n",
    "4. Freedom to make life choices:\n",
    "Dengan pengaruh (0.141722), kebebasan untuk membuat pilihan hidup juga berkontribusi pada tingkat kebahagiaan, mencerminkan pentingnya otonomi individu dalam kehidupan sehari-hari.\n",
    "5. Generosity:\n",
    "Meskipun memiliki pengaruh terendah di antara fitur-fitur lainnya (0.102302), sikap dermawan masih berperan dalam meningkatkan kebahagiaan, meskipun tidak sekuat faktor lainnya.\n",
    "\n",
    "Jadi faktor yang paling memengaruhi tingkat kebahagiaan suatu negara pada metode decision tree classifer urutannya yaitu pendapatan ekonomi (GDP), dukungan sosial, harapan hidup, kebebasan membuat pilihan, dan sikap dermawan. Pada metode ini semua variabel berpengaruh pada tingkat kebahagiaan suatu negara."
   ]
  },
  {
   "cell_type": "markdown",
   "id": "d140617c-c5cd-4ead-b772-e5d2f8ba8848",
   "metadata": {},
   "source": [
    "### Support Vector Machine (SVM)"
   ]
  },
  {
   "cell_type": "code",
   "execution_count": 84,
   "id": "1297a097-c9fc-4bf6-bef5-7f5ab0660c61",
   "metadata": {
    "tags": []
   },
   "outputs": [],
   "source": [
    "from sklearn.model_selection import train_test_split\n",
    "from sklearn.svm import SVC\n",
    "from sklearn.metrics import accuracy_score, classification_report, confusion_matrix"
   ]
  },
  {
   "cell_type": "code",
   "execution_count": 85,
   "id": "3be308f5-926e-4abd-ba4e-c7246a25d573",
   "metadata": {
    "tags": []
   },
   "outputs": [
    {
     "name": "stdout",
     "output_type": "stream",
     "text": [
      "Akurasi Model Support Vector Machine: 0.73\n"
     ]
    }
   ],
   "source": [
    "# Membuat model Support Vector Machine (SVM)\n",
    "model_svm = SVC(kernel='linear', random_state=42)  # Menggunakan kernel linear\n",
    "model_svm.fit(X_train, y_train)\n",
    "\n",
    "# Melakukan prediksi\n",
    "predictions_svm = model_svm.predict(X_test)\n",
    "\n",
    "# Menghitung akurasi model\n",
    "accuracy_svm = accuracy_score(y_test, predictions_svm)\n",
    "print(f'Akurasi Model Support Vector Machine: {accuracy_svm:.2f}')"
   ]
  },
  {
   "cell_type": "code",
   "execution_count": 86,
   "id": "b08eceea-8d99-4f49-a260-b9eaa8d045c7",
   "metadata": {
    "tags": []
   },
   "outputs": [
    {
     "name": "stdout",
     "output_type": "stream",
     "text": [
      "\n",
      "Confusion Matrix:\n",
      "[[ 0  2  0]\n",
      " [ 0 15  3]\n",
      " [ 0  3  7]]\n"
     ]
    },
    {
     "data": {
      "image/png": "[encoded data removed]",
      "text/plain": [
       "<Figure size 800x500 with 2 Axes>"
      ]
     },
     "metadata": {},
     "output_type": "display_data"
    }
   ],
   "source": [
    "# Confusion Matrix\n",
    "conf_matrix = confusion_matrix(y_test, predictions_svm)\n",
    "print(\"\\nConfusion Matrix:\")\n",
    "print(conf_matrix)\n",
    "\n",
    "# Visualisasi Matriks\n",
    "plt.figure(figsize=(8, 5))\n",
    "plt.imshow(conf_matrix, interpolation='nearest', cmap=plt.cm.Blues)\n",
    "plt.title('Confusion Matrix')\n",
    "plt.colorbar()\n",
    "tick_marks = np.arange(len(labels))\n",
    "plt.xticks(tick_marks, labels)\n",
    "plt.yticks(tick_marks, labels)\n",
    "\n",
    "thresh = conf_matrix.max() / 2.\n",
    "for i, j in np.ndindex(conf_matrix.shape):\n",
    "    plt.text(j, i, format(conf_matrix[i, j], 'd'),\n",
    "             horizontalalignment=\"center\",\n",
    "             color=\"white\" if conf_matrix[i, j] > thresh else \"black\")\n",
    "\n",
    "plt.ylabel('Label Aktual')\n",
    "plt.xlabel('Label Prediksi')\n",
    "plt.tight_layout()\n",
    "plt.show()"
   ]
  },
  {
   "cell_type": "code",
   "execution_count": 109,
   "id": "2b262765-0379-4598-96b4-2dfb8e651d8e",
   "metadata": {
    "tags": []
   },
   "outputs": [
    {
     "name": "stdout",
     "output_type": "stream",
     "text": [
      "\n",
      "Tabel Pengaruh Variabel X - SVM:\n",
      "                     Variabel X  Koefisien  Pengaruh\n",
      "1                Social support  -0.273588  0.273588\n",
      "3  Freedom to make life choices   0.050468  0.050468\n",
      "0         Logged GDP per capita  -0.013900  0.013900\n",
      "4                    Generosity   0.010114  0.010114\n",
      "2       Healthy life expectancy   0.000438  0.000438\n"
     ]
    }
   ],
   "source": [
    "# Mengambil koefisien dari model SVM jika menggunakan kernel linear\n",
    "if model_svm.kernel == 'linear':\n",
    "    coefficients = model_svm.coef_[0]\n",
    "    influence_df_svm = pd.DataFrame({\n",
    "        'Variabel X': X.columns,\n",
    "        'Koefisien': coefficients,\n",
    "        'Pengaruh': np.abs(coefficients)  # Nilai absolut koefisien sebagai ukuran pengaruh\n",
    "    }).sort_values(by='Pengaruh', ascending=False)\n",
    "\n",
    "    print(\"\\nTabel Pengaruh Variabel X - SVM:\")\n",
    "    print(influence_df_svm)"
   ]
  },
  {
   "cell_type": "markdown",
   "id": "c47c3ddb-6f7f-4a63-8654-8a2c36f59ec1",
   "metadata": {},
   "source": [
    "Interpretasi:\n",
    "1. Social support:\n",
    "Memiliki koefisien negatif (-0.273588) tetapi pengaruh absolutnya adalah yang tertinggi (0.273588). Ini menunjukkan bahwa meskipun model memperhitungkan dukungan sosial sebagai faktor penting, ada hubungan negatif yang mungkin mencerminkan bahwa dalam konteks tertentu, peningkatan dukungan sosial tidak selalu berkorelasi positif dengan kebahagiaan.\n",
    "2. Freedom to make life choices:\n",
    "Dengan koefisien positif (0.050468), kebebasan untuk membuat pilihan hidup juga berkontribusi pada tingkat kebahagiaan, meskipun pengaruhnya relatif kecil.\n",
    "3. Logged GDP per capita:\n",
    "Koefisien negatif (-0.013900) menunjukkan bahwa meskipun GDP per kapita sering dianggap sebagai faktor penting, dalam konteks ini, pengaruhnya sangat kecil dan mungkin tidak signifikan.\n",
    "4. Generosity:\n",
    "Juga memiliki koefisien positif (0.010114), tetapi pengaruhnya sangat rendah, menunjukkan bahwa sikap dermawan mungkin tidak menjadi faktor utama dalam mempengaruhi kebahagiaan.\n",
    "5. Healthy life expectancy:\n",
    "Dengan koefisien yang sangat kecil (0.000438), ini menunjukkan bahwa harapan hidup tidak memiliki pengaruh signifikan terhadap tingkat kebahagiaan dalam model ini.\n",
    "\n",
    "Jadi faktor yang paling memengaruhi tingkat kebahagiaan suatu negara pada metode SVM urutannya yaitu dukungan sosial, kebebasan membuat pilihan, sikap dermawan, pendapatan ekonomi (GDP) dan harapan hidup. Pada metode ini variabel yang paling berpengaruh adalah variabel social support dan healthy life expectancy yang paling rendah, yang artinya dukungan sosial paling berpengatuh pada tingkat kebahagiaan suatu negara dan harapan hidup paling rendah pengaruhnya."
   ]
  },
  {
   "cell_type": "code",
   "execution_count": null,
   "id": "e4a57916-c7a4-4536-97cf-720370ed8893",
   "metadata": {},
   "outputs": [],
   "source": []
  }
 ],
 "metadata": {
  "kernelspec": {
   "display_name": "Python 3 (ipykernel)",
   "language": "python",
   "name": "python3"
  },
  "language_info": {
   "codemirror_mode": {
    "name": "ipython",
    "version": 3
   },
   "file_extension": ".py",
   "mimetype": "text/x-python",
   "name": "python",
   "nbconvert_exporter": "python",
   "pygments_lexer": "ipython3",
   "version": "3.11.4"
  }
 },
 "nbformat": 4,
 "nbformat_minor": 5
}
